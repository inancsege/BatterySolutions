{
 "cells": [
  {
   "cell_type": "code",
   "id": "initial_id",
   "metadata": {
    "collapsed": true,
    "ExecuteTime": {
     "end_time": "2025-03-31T02:06:35.920841Z",
     "start_time": "2025-03-31T02:06:35.905470Z"
    }
   },
   "source": [
    "import pandas as pd\n",
    "\n",
    "file_mcu = 'C:/Users/serha/PycharmProjects/Temp/BatterySolutions/Validation_Dataset/Neocity_Parse_Dosyaları_18_Şubat_19_Mart_2025/mergedparse_Arac200727_MCU_18Subat_19Mart.csv'\n",
    "file_dcdc = 'C:/Users/serha/PycharmProjects/Temp/BatterySolutions/Validation_Dataset/Neocity_Parse_Dosyaları_18_Şubat_19_Mart_2025/mergedparse_Arac200728_DCDC_18Subat_19Mart.csv'"
   ],
   "outputs": [],
   "execution_count": 237
  },
  {
   "metadata": {
    "ExecuteTime": {
     "end_time": "2025-03-31T02:06:35.936717Z",
     "start_time": "2025-03-31T02:06:35.925504Z"
    }
   },
   "cell_type": "code",
   "source": [
    "# Read a few lines manually to inspect the delimiter and structure\n",
    "with open(file_mcu, 'r', encoding='utf-8') as f:\n",
    "    mcu_lines = [next(f) for _ in range(10)]\n",
    "\n",
    "with open(file_dcdc, 'r', encoding='utf-8') as f:\n",
    "    dcdc_lines = [next(f) for _ in range(10)]\n",
    "\n",
    "mcu_lines, dcdc_lines"
   ],
   "id": "7ad333946544df22",
   "outputs": [
    {
     "data": {
      "text/plain": [
       "(['Date Time;2_0440_RollingCounter;2_0440_HighPowerVoltageStatus;2_0440_HighPowerVoltage;2_0440_HighPowerCurrentStatus;2_0440_HighPowerCurrent;2_0440_AuxiliaryVoltageStatus;2_0440_AuxiliaryVoltage;2_0441_RollingCounter;2_0441_MotorTorqueEstimatedStatus;2_0441_RegenTorqueAvailStatus;2_0441_TractionTorqueAvailStatus;2_0441_RegenTorqueAvail;2_0441_TractionTorqueAvail;2_0441_MotorTorqueEstimated;2_0442_FaultPhaseToChassisStatus;2_0442_FaultInterlockMotorCableStatus;2_0442_FaultInterlockBatteryCableStatus;2_0442_FaultDriveCoverWasOpenedStatus;2_0442_FaultDriveCoverWasOpened;2_0442_FaultInterlockMotorCable;2_0442_FaultInterlockBatteryCable;2_0442_FaultPhaseToChassis;2_0443_RollingCounter;2_0443_EventId;2_0444_MajorMcuProtocol;2_0444_MinorMcuProtocol;2_0445_VmuRequestId;2_0446_BootNumber;2_0447_CommandModeMinVoltage;2_0447_CommandModeMaxVoltage;2_0447_McuRequestId;2_0448_TotalMotorRotation;2_0449_RollingCounter;2_0449_MotorCoolingFlowRequestStatus;2_0449_MotorCoolingFlowRequest;2_0449_DriveCoolingFlowRequestStatus;2_0449_ThermalIndicatorStatus;2_0449_ThermalIndicator;2_0449_DriveCoolingFlowRequest;2_0040_RollingCounter;2_0040_MinBatteryVoltageStatus;2_0040_MaxDischargeCurrentStatus;2_0040_MaxChargeCurrentStatus;2_0040_MaxBatteryVoltageStatus;2_0040_MinBatteryVoltage;2_0040_MaxBatteryVoltage;2_0040_MaxDischargeCurrent;2_0040_MaxChargeCurrent;2_0040_OperationRequest;2_0041_VoltageCommandStatus;2_0042_ReferenceTorqueCommand;2_0043_CommandMode;2_0043_MaxSafeMotorSpeedReverseStatus;2_0043_MaxSafeMotorSpeedReverse;2_0043_MaxSafeMotorSpeedForwardStatus;2_0043_MaxSafeMotorSpeedForward;2_0043_RegenDeratingStatus;2_0043_OperationalMode;2_0043_TractionDeratingStatus;2_0043_RollingCounter;2_0043_RegenDerating;2_0043_TractionDerating;2_0043_StateMcu;2_0044_SpeedReductionRequest;2_0044_EmergencyStop;2_0044_RollingCounter;2_0044_MotorAngleStatus;2_0044_MotorSpeedStatus;2_0044_MotorAngle;2_0044_MotorSpeed\\n',\n",
       "  ' - ;;;;;;;;;;;;;;;;;;;;;;;;;;;;;;;;;;;;;;;;;;;;;;;;;;;;;;;;;;;;;;;;;;;;;;\\n',\n",
       "  '180225 - 000029;11;0;674;0;-0,25;0;27,25;9;0;0;0;3080;3080;0;0;1;1;1;0;0;0;0;1;16402;4;1;0;788;0;0;5;2,81475E+14;11;0;0;0;0;5,46875;0;11;0;0;0;0;400;700;574;248;1;0;0;0;0;3600;0;3600;0;0;0;11;0;0;4;0;0;0;0;0;0,11769104;0\\n',\n",
       "  '180225 - 000000;;;;;;;;;;;;;;;;;;;;;;;;;;;;;;;;;;;;;;;;;;;;;;;;;;;;;;;;;;;;;;;;;;;;;;\\n',\n",
       "  '180225 - 000000;;;;;;;;;;;;;;;;;;;;;;;;;;;;;;;;;;;;;;;;;;;;;;;;;;;;;;;;;;;;;;;;;;;;;;\\n',\n",
       "  '180225 - 000007;;;;;;;;;;;;;;;;;;;;;;;;;;;;;;;;;;;;;;;;;;;;;;;;;;;;;;;;;;;;;;;;;;;;;;\\n',\n",
       "  '180225 - 000015;;;;;;;;;;;;;;;;;;;;;;;;;;;;;;;;;;;;;;;;;;;;;;;;;;;;;;;;;;;;;;;;;;;;;;\\n',\n",
       "  '180225 - 000019;;;;;;;;;;;;;;;;;;;;;;;;;;;;;;;;;;;;;;;;;;;;;;;;;;;;;;;;;;;;;;;;;;;;;;\\n',\n",
       "  '180225 - 000035;;;;;;;;;;;;;;;;;;;;;;;;;;;;;;;;;;;;;;;;;;;;;;;;;;;;;;;;;;;;;;;;;;;;;;\\n',\n",
       "  '180225 - 000035;;;;;;;;;;;;;;;;;;;;;;;;;;;;;;;;;;;;;;;;;;;;;;;;;;;;;;;;;;;;;;;;;;;;;;\\n'],\n",
       " ['Date Time;1_F230_Number_of_Active_Battery_Boxes;1_F230_Maximum_Charge_Voltage;1_F230_Estimated_Timeto_Endof_Charge;1_F230_The_Remaining_Capacity;1_F230_SOC;1_F231_Avarage_Battery_Voltage;1_F231_Current_Charge_Discharge;1_F231_Maximum_Discharging_Current;1_F231_Maximum_Charging_Current;1_F232_Average_temp;1_F232_Low_temp;1_F232_High_temp;1_F232_Balancing_status;1_F232_Battery_empty;1_F232_Discharging_status;1_F232_Complate_charging;1_F232_Charging_status;1_F232_Precharge_Status;1_F232_To_high_discharging_current;1_F232_To_high_charging_current;1_F232_Emergency_enable;1_F232_Discharge_enable;1_F232_Charge_enable;1_F232_Emergency_signal_feedback;1_F232_Ready_signal_feedback;1_F232_Charge_signal_feedback;1_F233_Battery_BOX8_warning;1_F233_Battery_BOX7_warning;1_F233_Battery_BOX6_warning;1_F233_Battery_BOX5_warning;1_F233_Battery_BOX4_warning;1_F233_Battery_BOX3_warning;1_F233_Battery_BOX2_warning;1_F233_Battery_BOX1_warning;1_F233_Battery_BOX8_error;1_F233_Battery_BOX7_error;1_F233_Battery_BOX6_error;1_F233_Battery_BOX5_error;1_F233_Battery_BOX4_error;1_F233_Battery_BOX3_error;1_F233_Battery_BOX2_error;1_F233_Battery_BOX1_error;1_F233_Master_BMS_error;1_F233_Precharge_contactor_fault;1_F233_Main_Contactor_Fault;1_F233_CAN1_Public_Fault;1_F233_CAN_Fault_BOX8;1_F233_CAN_Fault_BOX7;1_F233_CAN_Fault_BOX6;1_F233_CAN_Fault_BOX5;1_F233_CAN_Fault_BOX4;1_F233_CAN_Fault_BOX3;1_F233_CAN_Fault_BOX2;1_F233_CAN_Fault_BOX1;1_F234_Estimated_Range_in_Kilometers;1_F234_Altitude_Rakim;1_F234_GPS_Speed;1_F234_Total_Consumed_Energy;1_F235_GPS_Position_Longitude;1_F235_GPS_Position_Latitude;1_FEC1_odometri;3_FF40_CommandEnable_DC2;3_FF40_ControlMode_DC1;3_FF40_CommandCurrent_DC1;3_FF40_CommandVoltage_DC1;3_FF40_CommandEnable_DC1;3_FF41_ActualHighsideCurrent_DC1;3_FF41_ActualHighsideVoltage_DC1;3_FF41_ActualLowsideCurrent_DC1;3_FF41_ActualLowsideVoltage_DC1;3_FF42_BatterySensVoltage_DC1;3_FF42_LimitationMode_DC1;3_FF42_CoolantTemperature_DC1;3_FF42_AbilityLowsideCurrent_DC1;3_FF42_HeatsinkTemperature_DC1;3_FF42_ActualControlMode_DC1;3_FF43_ReferenceLowsideCurrent_DC1;3_FF43_ReferenceLowsideVoltage_DC1;3_FF44_Fault32_DC1;3_FF44_Fault31_DC1;3_FF44_Fault30_DC1;3_FF44_Fault29_DC1;3_FF44_Fault28_DC1;3_FF44_Fault27_DC1;3_FF44_Fault26_DC1;3_FF44_Fault25_DC1;3_FF44_Fault24_DC1;3_FF44_Fault23_DC1;3_FF44_Fault22_DC1;3_FF44_Fault21_DC1;3_FF44_Fault20_DC1;3_FF44_Fault19_DC1;3_FF44_Fault18_DC1;3_FF44_Fault17_DC1;3_FF44_Fault16_DC1;3_FF44_Fault15_DC1;3_FF44_Fault14_DC1;3_FF44_Fault13_DC1;3_FF44_Fault12_DC1;3_FF44_Fault11_DC1;3_FF44_Fault10_DC1;3_FF44_Fault9_DC1;3_FF44_Fault8_DC1;3_FF44_Fault7_DC1;3_FF44_Fault6_DC1;3_FF44_Fault5_DC1;3_FF44_Fault4_DC1;3_FF44_Fault3_DC1;3_FF44_Fault2_DC1;3_FF44_Fault1_DC1;3_FF4C_CommandVoltage_DC2;3_FF4C_ControlMode_DC2;3_FF4C_CommandCurrent_DC2\\n',\n",
       "  ' - ;;;;;;;;;;;;;;;;;;;;;;;;;;;;;;;;;;;;;;;;;;;;;;;;;;;;;;;;;;;;;;;;;;;;;;;;;;;;;;;;;;;;;;;;;;;;;;;;;;;;;;;;;;;;;;;;;\\n',\n",
       "  '170225 - 102807;3;700;0;226;82;675,5;10,2;574;248;15;15;16;0;0;1;0;0;0;0;0;1;1;1;0;1;0;0;0;0;0;0;0;0;0;0;0;0;0;0;0;0;0;0;0;0;0;0;0;0;0;0;0;0;0;0;0;0;28442;0;0;23749,9;0;1;500;28;1;10,8000000000002;675,7;245,4;27,95;0;11;14;265;17;2;265;31;0;0;0;0;0;0;0;0;0;0;0;0;0;0;0;0;0;0;0;0;0;0;0;0;0;0;0;0;2;0;1;1;31;1;245,3\\n',\n",
       "  '170225 - 102736;;;;;;;;;;;;;;;;;;;;;;;;;;;;;;;;;;;;;;;;;;;;;;;;;;;;;;;;;;;;;;;;;;;;;;;;;;;;;;;;;;;;;;;;;;;;;;;;;;;;;;;;;;;;;;;;;\\n',\n",
       "  '170225 - 102745;;;;;;;;;;;;;;;;;;;;;;;;;;;;;;;;;;;;;;;;;;;;;;;;;;;;;;;;;;;;;;;;;;;;;;;;;;;;;;;;;;;;;;;;;;;;;;;;;;;;;;;;;;;;;;;;;\\n',\n",
       "  '170225 - 102755;3;700;0;226;82;675,4;0;251;248;15;15;16;0;0;1;0;0;0;0;0;1;1;1;0;1;0;0;0;0;0;0;0;0;0;0;0;0;0;0;0;0;0;0;0;0;0;0;0;0;0;0;0;0;0;0;0;0;28442;0;0;0;0;1;500;28;0;-1600;0;-1600;0;0;0;-40;-1600;-40;0;;;0;0;0;0;0;0;0;0;0;0;0;0;0;0;0;0;0;0;0;0;0;0;0;0;0;0;0;0;0;0;0;0;;;\\n',\n",
       "  '170225 - 102815;3;700;0;226;82;675,7;38,2;574;248;15;15;16;0;0;1;0;0;0;0;0;1;1;1;0;1;0;0;0;0;0;0;0;0;0;0;0;0;0;0;0;0;0;0;0;0;0;0;0;0;0;0;0;0;0;0;0;0;28442;0;0;23749,9;0;1;500;28;1;10,1000000000001;674,2;230,2;27,95;0;11;15;265;22;2;265;31;3;3;0;3;3;0;0;0;0;0;0;0;3;0;0;0;3;3;3;3;3;3;0;3;0;3;0;0;3;0;0;0;31;1;230,3\\n',\n",
       "  '170225 - 102825;3;700;0;226;82;675,3;9;574;248;15;15;16;0;0;1;0;0;0;0;0;1;1;1;0;1;0;0;0;0;0;0;0;0;0;0;0;0;0;0;0;0;0;0;0;0;0;0;0;0;0;0;0;0;0;0;0;0;28442;0;0;23749,9;0;1;500;28;1;9,35000000000014;675,8;213,6;27,95;0;11;15;265;24;2;265;31;3;3;0;3;3;0;0;0;0;0;0;0;3;0;0;0;3;3;3;3;3;3;0;3;0;3;0;0;3;0;0;0;31;1;213,8\\n',\n",
       "  '170225 - 102835;3;700;0;226;82;675,2;8,6;574;248;15;15;16;0;0;1;0;0;0;0;0;1;1;1;0;1;0;0;0;0;0;0;0;0;0;0;0;0;0;0;0;0;0;0;0;0;0;0;0;0;0;0;0;0;0;0;0;0;28442;0;0;23749,9;0;1;500;28;1;8,95000000000005;675,8;204,3;27,95;0;11;15;265;25;2;265;31;3;3;0;3;3;0;0;0;0;0;0;0;3;0;0;0;3;3;3;3;3;3;0;3;0;3;0;0;3;0;0;0;31;1;204,7\\n',\n",
       "  '170225 - 102845;3;700;0;226;82;675,2;8,9;574;248;15;15;16;0;0;1;0;0;0;0;0;1;1;1;0;1;0;0;0;0;0;0;0;0;0;0;0;0;0;0;0;0;0;0;0;0;0;0;0;0;0;0;0;0;0;0;0;0;28442;0;0;23749,9;0;1;500;28;1;9,55000000000018;675,6;218,5;27,95;0;11;15;265;25;2;265;31;3;3;0;3;3;0;0;0;0;0;0;0;3;0;0;0;3;3;3;3;3;3;0;3;0;3;0;0;3;0;0;0;31;1;218,7\\n'])"
      ]
     },
     "execution_count": 238,
     "metadata": {},
     "output_type": "execute_result"
    }
   ],
   "execution_count": 238
  },
  {
   "metadata": {
    "ExecuteTime": {
     "end_time": "2025-03-31T02:06:36.308638Z",
     "start_time": "2025-03-31T02:06:35.968935Z"
    }
   },
   "cell_type": "code",
   "source": [
    "# Load the files again using correct delimiter and decimal symbol\n",
    "df_mcu = pd.read_csv(file_mcu, delimiter=';', decimal=',', encoding='utf-8', low_memory=False)\n",
    "df_dcdc = pd.read_csv(file_dcdc, delimiter=';', decimal=',', encoding='utf-8', low_memory=False)\n",
    "\n",
    "(df_mcu.shape, df_dcdc.shape)"
   ],
   "id": "9d3f0a203efae148",
   "outputs": [
    {
     "data": {
      "text/plain": [
       "((46754, 71), (42497, 114))"
      ]
     },
     "execution_count": 239,
     "metadata": {},
     "output_type": "execute_result"
    }
   ],
   "execution_count": 239
  },
  {
   "metadata": {
    "ExecuteTime": {
     "end_time": "2025-03-31T02:06:39.724756Z",
     "start_time": "2025-03-31T02:06:36.341355Z"
    }
   },
   "cell_type": "code",
   "source": [
    "import pandas as pd\n",
    "import numpy as np\n",
    "from sklearn.ensemble import RandomForestRegressor\n",
    "from sklearn.model_selection import train_test_split\n",
    "from sklearn.metrics import mean_squared_error, r2_score\n",
    "\n",
    "# Select features and target for training\n",
    "features = [\"1_F231_Avarage_Battery_Voltage\", \"1_F231_Current_Charge_Discharge\", \"1_F230_SOC\", \"1_F232_High_temp\", \"1_F232_Low_temp\", \"1_F230_The_Remaining_Capacity\"]\n",
    "target = \"1_F230_The_Remaining_Capacity\"\n",
    "\n",
    "# Drop missing values and convert everything to float\n",
    "df_model = df_dcdc[features + [target]].dropna().astype(\"float32\")\n",
    "\n",
    "X = df_model[features]\n",
    "y = df_model[target]\n",
    "\n",
    "# Ensure y is a Series\n",
    "if isinstance(y, pd.DataFrame):\n",
    "    y = y.iloc[:, 0]\n",
    "\n",
    "# Train-test split\n",
    "X_train, X_test, y_train, y_test = train_test_split(X, y, test_size=0.2, random_state=42)\n",
    "\n",
    "# Train Random Forest\n",
    "rf_model = RandomForestRegressor(n_estimators=100, random_state=42)\n",
    "rf_model.fit(X_train, y_train)\n",
    "\n",
    "# Predict and evaluate\n",
    "y_pred = rf_model.predict(X_test)\n",
    "mse = mean_squared_error(y_test, y_pred)\n",
    "r2 = r2_score(y_test, y_pred)\n",
    "\n",
    "print(f\"🌲 Validation MSE: {mse:.2f}\")\n",
    "print(f\"🌲 Validation R² Score: {r2:.4f}\")\n"
   ],
   "id": "468e9c7bfda65b7d",
   "outputs": [
    {
     "name": "stdout",
     "output_type": "stream",
     "text": [
      "🌲 Validation MSE: 65.24\n",
      "🌲 Validation R² Score: 0.9869\n"
     ]
    }
   ],
   "execution_count": 240
  },
  {
   "metadata": {
    "ExecuteTime": {
     "end_time": "2025-03-31T02:06:39.771418Z",
     "start_time": "2025-03-31T02:06:39.757157Z"
    }
   },
   "cell_type": "code",
   "source": "y_pred",
   "id": "cef07a3828e506f5",
   "outputs": [
    {
     "data": {
      "text/plain": [
       "array([ 63.,  68.,  83., ..., 247., 135., 121.])"
      ]
     },
     "execution_count": 241,
     "metadata": {},
     "output_type": "execute_result"
    }
   ],
   "execution_count": 241
  },
  {
   "metadata": {
    "ExecuteTime": {
     "end_time": "2025-03-31T02:06:39.817471Z",
     "start_time": "2025-03-31T02:06:39.801871Z"
    }
   },
   "cell_type": "code",
   "source": "X_test",
   "id": "66de5f8eb1d7d124",
   "outputs": [
    {
     "data": {
      "text/plain": [
       "       1_F231_Avarage_Battery_Voltage  1_F231_Current_Charge_Discharge  \\\n",
       "23288                      599.799988                         7.500000   \n",
       "22906                      603.099976                         8.000000   \n",
       "12482                      612.799988                      -104.599998   \n",
       "41591                      670.200012                         8.100000   \n",
       "31313                      657.299988                        10.700000   \n",
       "...                               ...                              ...   \n",
       "23588                      686.400024                        12.200000   \n",
       "2266                       624.400024                      -148.699997   \n",
       "36778                      665.200012                        37.500000   \n",
       "18143                      617.599976                         6.600000   \n",
       "17293                      613.599976                         1.200000   \n",
       "\n",
       "       1_F230_SOC  1_F232_High_temp  1_F232_Low_temp  \\\n",
       "23288        23.0              16.0             11.0   \n",
       "22906        25.0              14.0             11.0   \n",
       "12482        29.0              25.0             17.0   \n",
       "41591        87.0              23.0             19.0   \n",
       "31313        84.0              28.0             26.0   \n",
       "...           ...               ...              ...   \n",
       "23588        97.0              27.0             23.0   \n",
       "2266         53.0              26.0             22.0   \n",
       "36778        87.0              39.0             34.0   \n",
       "18143        47.0              27.0             23.0   \n",
       "17293        43.0              22.0             18.0   \n",
       "\n",
       "       1_F230_The_Remaining_Capacity  1_F230_The_Remaining_Capacity  \n",
       "23288                           63.0                           63.0  \n",
       "22906                           68.0                           68.0  \n",
       "12482                           83.0                           83.0  \n",
       "41591                          245.0                          245.0  \n",
       "31313                          238.0                          238.0  \n",
       "...                              ...                            ...  \n",
       "23588                          274.0                          274.0  \n",
       "2266                           150.0                          150.0  \n",
       "36778                          247.0                          247.0  \n",
       "18143                          135.0                          135.0  \n",
       "17293                          121.0                          121.0  \n",
       "\n",
       "[8206 rows x 7 columns]"
      ],
      "text/html": [
       "<div>\n",
       "<style scoped>\n",
       "    .dataframe tbody tr th:only-of-type {\n",
       "        vertical-align: middle;\n",
       "    }\n",
       "\n",
       "    .dataframe tbody tr th {\n",
       "        vertical-align: top;\n",
       "    }\n",
       "\n",
       "    .dataframe thead th {\n",
       "        text-align: right;\n",
       "    }\n",
       "</style>\n",
       "<table border=\"1\" class=\"dataframe\">\n",
       "  <thead>\n",
       "    <tr style=\"text-align: right;\">\n",
       "      <th></th>\n",
       "      <th>1_F231_Avarage_Battery_Voltage</th>\n",
       "      <th>1_F231_Current_Charge_Discharge</th>\n",
       "      <th>1_F230_SOC</th>\n",
       "      <th>1_F232_High_temp</th>\n",
       "      <th>1_F232_Low_temp</th>\n",
       "      <th>1_F230_The_Remaining_Capacity</th>\n",
       "      <th>1_F230_The_Remaining_Capacity</th>\n",
       "    </tr>\n",
       "  </thead>\n",
       "  <tbody>\n",
       "    <tr>\n",
       "      <th>23288</th>\n",
       "      <td>599.799988</td>\n",
       "      <td>7.500000</td>\n",
       "      <td>23.0</td>\n",
       "      <td>16.0</td>\n",
       "      <td>11.0</td>\n",
       "      <td>63.0</td>\n",
       "      <td>63.0</td>\n",
       "    </tr>\n",
       "    <tr>\n",
       "      <th>22906</th>\n",
       "      <td>603.099976</td>\n",
       "      <td>8.000000</td>\n",
       "      <td>25.0</td>\n",
       "      <td>14.0</td>\n",
       "      <td>11.0</td>\n",
       "      <td>68.0</td>\n",
       "      <td>68.0</td>\n",
       "    </tr>\n",
       "    <tr>\n",
       "      <th>12482</th>\n",
       "      <td>612.799988</td>\n",
       "      <td>-104.599998</td>\n",
       "      <td>29.0</td>\n",
       "      <td>25.0</td>\n",
       "      <td>17.0</td>\n",
       "      <td>83.0</td>\n",
       "      <td>83.0</td>\n",
       "    </tr>\n",
       "    <tr>\n",
       "      <th>41591</th>\n",
       "      <td>670.200012</td>\n",
       "      <td>8.100000</td>\n",
       "      <td>87.0</td>\n",
       "      <td>23.0</td>\n",
       "      <td>19.0</td>\n",
       "      <td>245.0</td>\n",
       "      <td>245.0</td>\n",
       "    </tr>\n",
       "    <tr>\n",
       "      <th>31313</th>\n",
       "      <td>657.299988</td>\n",
       "      <td>10.700000</td>\n",
       "      <td>84.0</td>\n",
       "      <td>28.0</td>\n",
       "      <td>26.0</td>\n",
       "      <td>238.0</td>\n",
       "      <td>238.0</td>\n",
       "    </tr>\n",
       "    <tr>\n",
       "      <th>...</th>\n",
       "      <td>...</td>\n",
       "      <td>...</td>\n",
       "      <td>...</td>\n",
       "      <td>...</td>\n",
       "      <td>...</td>\n",
       "      <td>...</td>\n",
       "      <td>...</td>\n",
       "    </tr>\n",
       "    <tr>\n",
       "      <th>23588</th>\n",
       "      <td>686.400024</td>\n",
       "      <td>12.200000</td>\n",
       "      <td>97.0</td>\n",
       "      <td>27.0</td>\n",
       "      <td>23.0</td>\n",
       "      <td>274.0</td>\n",
       "      <td>274.0</td>\n",
       "    </tr>\n",
       "    <tr>\n",
       "      <th>2266</th>\n",
       "      <td>624.400024</td>\n",
       "      <td>-148.699997</td>\n",
       "      <td>53.0</td>\n",
       "      <td>26.0</td>\n",
       "      <td>22.0</td>\n",
       "      <td>150.0</td>\n",
       "      <td>150.0</td>\n",
       "    </tr>\n",
       "    <tr>\n",
       "      <th>36778</th>\n",
       "      <td>665.200012</td>\n",
       "      <td>37.500000</td>\n",
       "      <td>87.0</td>\n",
       "      <td>39.0</td>\n",
       "      <td>34.0</td>\n",
       "      <td>247.0</td>\n",
       "      <td>247.0</td>\n",
       "    </tr>\n",
       "    <tr>\n",
       "      <th>18143</th>\n",
       "      <td>617.599976</td>\n",
       "      <td>6.600000</td>\n",
       "      <td>47.0</td>\n",
       "      <td>27.0</td>\n",
       "      <td>23.0</td>\n",
       "      <td>135.0</td>\n",
       "      <td>135.0</td>\n",
       "    </tr>\n",
       "    <tr>\n",
       "      <th>17293</th>\n",
       "      <td>613.599976</td>\n",
       "      <td>1.200000</td>\n",
       "      <td>43.0</td>\n",
       "      <td>22.0</td>\n",
       "      <td>18.0</td>\n",
       "      <td>121.0</td>\n",
       "      <td>121.0</td>\n",
       "    </tr>\n",
       "  </tbody>\n",
       "</table>\n",
       "<p>8206 rows × 7 columns</p>\n",
       "</div>"
      ]
     },
     "execution_count": 242,
     "metadata": {},
     "output_type": "execute_result"
    }
   ],
   "execution_count": 242
  },
  {
   "metadata": {
    "ExecuteTime": {
     "end_time": "2025-03-31T02:09:02.322564Z",
     "start_time": "2025-03-31T02:09:02.313803Z"
    }
   },
   "cell_type": "code",
   "source": "file_dcdc_2 = 'C:/Users/serha/PycharmProjects/Temp/BatterySolutions/Validation_Dataset/Neocity_Parse_Dosyaları_19_Ocak_19_Şubat_2025/mergedParse_Araç200728_DCDC_20 Ocak - 19 Subat 2025.csv'",
   "id": "2d3ce0b68ff46cdd",
   "outputs": [],
   "execution_count": 250
  },
  {
   "metadata": {
    "ExecuteTime": {
     "end_time": "2025-03-31T02:09:04.103771Z",
     "start_time": "2025-03-31T02:09:03.602947Z"
    }
   },
   "cell_type": "code",
   "source": "df_dcdc_validation = pd.read_csv(file_dcdc_2, delimiter=';', decimal=',', encoding='utf-8', low_memory=False)",
   "id": "1d46361efc3160ec",
   "outputs": [],
   "execution_count": 251
  },
  {
   "metadata": {
    "ExecuteTime": {
     "end_time": "2025-03-31T02:09:05.504919Z",
     "start_time": "2025-03-31T02:09:05.493971Z"
    }
   },
   "cell_type": "code",
   "source": [
    "# Select features and target for training\n",
    "features = [\"1_F231_Avarage_Battery_Voltage\", \"1_F231_Current_Charge_Discharge\", \"1_F230_SOC\", \"1_F232_High_temp\", \"1_F232_Low_temp\", \"1_F230_The_Remaining_Capacity\"]\n",
    "target = \"1_F230_The_Remaining_Capacity\""
   ],
   "id": "b9b86d65e146b56e",
   "outputs": [],
   "execution_count": 252
  },
  {
   "metadata": {
    "ExecuteTime": {
     "end_time": "2025-03-31T02:09:07.327643Z",
     "start_time": "2025-03-31T02:09:07.308959Z"
    }
   },
   "cell_type": "code",
   "source": [
    "# Drop missing values and convert everything to float\n",
    "df_model = df_dcdc_validation[features + [target]].dropna().astype(\"float32\")\n",
    "\n",
    "X = df_model[features]\n",
    "y = df_model[target]\n",
    "\n",
    "# Ensure y is a Series\n",
    "if isinstance(y, pd.DataFrame):\n",
    "    y = y.iloc[:, 0]\n",
    "\n",
    "# Train-test split\n",
    "X_train, X_test, y_train, y_test = train_test_split(X, y, test_size=0.2, random_state=42)"
   ],
   "id": "54da615ba5ee8f59",
   "outputs": [],
   "execution_count": 253
  },
  {
   "metadata": {
    "ExecuteTime": {
     "end_time": "2025-03-31T02:09:09.124192Z",
     "start_time": "2025-03-31T02:09:08.997097Z"
    }
   },
   "cell_type": "code",
   "source": [
    "# Predict and evaluate\n",
    "y_pred = rf_model.predict(X_test)\n",
    "mse = mean_squared_error(y_test, y_pred)\n",
    "r2 = r2_score(y_test, y_pred)\n",
    "\n",
    "print(f\"🌲 Validation MSE: {mse:.2f}\")\n",
    "print(f\"🌲 Validation R² Score: {r2:.4f}\")"
   ],
   "id": "d1894276ce821897",
   "outputs": [
    {
     "name": "stdout",
     "output_type": "stream",
     "text": [
      "🌲 Validation MSE: 742.00\n",
      "🌲 Validation R² Score: 0.9043\n"
     ]
    }
   ],
   "execution_count": 254
  }
 ],
 "metadata": {
  "kernelspec": {
   "display_name": "Python 3",
   "language": "python",
   "name": "python3"
  },
  "language_info": {
   "codemirror_mode": {
    "name": "ipython",
    "version": 2
   },
   "file_extension": ".py",
   "mimetype": "text/x-python",
   "name": "python",
   "nbconvert_exporter": "python",
   "pygments_lexer": "ipython2",
   "version": "2.7.6"
  }
 },
 "nbformat": 4,
 "nbformat_minor": 5
}
