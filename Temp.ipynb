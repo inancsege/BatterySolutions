{
 "cells": [
  {
   "metadata": {
    "ExecuteTime": {
     "end_time": "2025-03-28T13:33:10.358336Z",
     "start_time": "2025-03-28T13:33:08.426986Z"
    }
   },
   "cell_type": "code",
   "source": [
    "import pandas as pd\n",
    "from xgboost import XGBRegressor\n",
    "from sklearn.metrics import mean_absolute_error, mean_squared_error\n",
    "\n",
    "# File paths\n",
    "scaled_file = 'C:/Users/serha/PycharmProjects/Temp/scaledData/scaledData1.csv'\n",
    "file_mcu = '/BatterySolutions/Validation_Dataset/Neocity_Parse_Dosyaları_18_Şubat_19_Mart_2025/mergedparse_Arac200727_MCU_18Subat_19Mart.csv'\n",
    "file_dcdc = '/BatterySolutions/Validation_Dataset/Neocity_Parse_Dosyaları_18_Şubat_19_Mart_2025/mergedparse_Arac200728_DCDC_18Subat_19Mart.csv'\n",
    "\n",
    "# Define feature mapping\n",
    "feature_map = {\n",
    "    '1_F230_SOC': 'soc',\n",
    "    '1_F231_Avarage_Battery_Voltage': 'pack_voltage (V)',\n",
    "    '1_F231_Current_Charge_Discharge': 'charge_current (A)',\n",
    "    '1_F232_High_temp': 'max_temperature (℃)',\n",
    "    '1_F232_Low_temp': 'min_temperature (℃)',\n",
    "    '1_F230_The_Remaining_Capacity': 'available_capacity (Ah)',\n",
    "}\n",
    "\n",
    "# Load and prepare the scaled training data\n",
    "train_cols = list(feature_map.values())\n",
    "chunk_iterator = pd.read_csv(scaled_file, usecols=train_cols, chunksize=10000)\n",
    "df_train_chunk = next(chunk_iterator)\n",
    "\n",
    "# Split into features and target\n",
    "X_train = df_train_chunk.drop(columns='available_capacity (Ah)')\n",
    "y_train = df_train_chunk['available_capacity (Ah)']\n",
    "\n",
    "# Train the XGBoost model\n",
    "model = XGBRegressor(n_estimators=100, max_depth=6, learning_rate=0.1, random_state=42)\n",
    "model.fit(X_train, y_train)\n",
    "\n",
    "# Function to clean and prepare test data\n",
    "def prepare_test_data(df, column_map, feature_names):\n",
    "    available_cols = [col for col in column_map if col in df.columns]\n",
    "    renamed = df[available_cols].rename(columns={k: column_map[k] for k in available_cols})\n",
    "    for col in renamed.columns:\n",
    "        renamed[col] = renamed[col].astype(str).str.replace(',', '.')\n",
    "        renamed[col] = pd.to_numeric(renamed[col], errors='coerce')\n",
    "    renamed = renamed.dropna()\n",
    "    renamed = renamed[[column_map[col] for col in available_cols]]  # Ensure correct column order\n",
    "    renamed = renamed.reindex(columns=feature_names + ['available_capacity (Ah)'], fill_value=0)  # Include target column\n",
    "    return renamed\n",
    "\n",
    "# Extract feature names from training data\n",
    "feature_names = X_train.columns.tolist()\n",
    "\n",
    "# Load and clean MCU data\n",
    "df_mcu = pd.read_csv(file_mcu, delimiter=';', on_bad_lines='skip')\n",
    "df_mcu_clean = prepare_test_data(df_mcu, feature_map, feature_names)\n",
    "df_mcu_clean['predicted_available_capacity (Ah)'] = model.predict(df_mcu_clean[feature_names])\n",
    "\n",
    "# Load and clean DCDC data\n",
    "df_dcdc = pd.read_csv(file_dcdc, delimiter=';', on_bad_lines='skip')\n",
    "df_dcdc_clean = prepare_test_data(df_dcdc, feature_map, feature_names)\n",
    "df_dcdc_clean['predicted_available_capacity (Ah)'] = model.predict(df_dcdc_clean[feature_names])\n",
    "\n",
    "# Check if 'available_capacity (Ah)' column exists before calculating error rates\n",
    "if 'available_capacity (Ah)' in df_mcu_clean.columns:\n",
    "    y_true_mcu = df_mcu_clean['available_capacity (Ah)']\n",
    "    y_pred_mcu = df_mcu_clean['predicted_available_capacity (Ah)']\n",
    "    mae_mcu = mean_absolute_error(y_true_mcu, y_pred_mcu)\n",
    "    mse_mcu = mean_squared_error(y_true_mcu, y_pred_mcu)\n",
    "    print(f\"MCU Data - MAE: {mae_mcu}, MSE: {mse_mcu}\")\n",
    "else:\n",
    "    print(\"MCU Data - 'available_capacity (Ah)' column not found\")\n",
    "\n",
    "if 'available_capacity (Ah)' in df_dcdc_clean.columns:\n",
    "    y_true_dcdc = df_dcdc_clean['available_capacity (Ah)']\n",
    "    y_pred_dcdc = df_dcdc_clean['predicted_available_capacity (Ah)']\n",
    "    mae_dcdc = mean_absolute_error(y_true_dcdc, y_pred_dcdc)\n",
    "    mse_dcdc = mean_squared_error(y_true_dcdc, y_pred_dcdc)\n",
    "    print(f\"DCDC Data - MAE: {mae_dcdc}, MSE: {mse_dcdc}\")\n",
    "else:\n",
    "    print(\"DCDC Data - 'available_capacity (Ah)' column not found\")\n",
    "\n",
    "# Display result samples\n",
    "print(df_mcu_clean.head())\n",
    "print(df_dcdc_clean.head())"
   ],
   "id": "92a1775a6ab5016b",
   "outputs": [
    {
     "name": "stderr",
     "output_type": "stream",
     "text": [
      "C:\\Users\\serha\\AppData\\Local\\Temp\\ipykernel_66692\\2788824680.py:49: DtypeWarning: Columns (35,39) have mixed types. Specify dtype option on import or set low_memory=False.\n",
      "  df_mcu = pd.read_csv(file_mcu, delimiter=';', on_bad_lines='skip')\n",
      "C:\\Users\\serha\\AppData\\Local\\Temp\\ipykernel_66692\\2788824680.py:54: DtypeWarning: Columns (2,4,8,64,74,77,78) have mixed types. Specify dtype option on import or set low_memory=False.\n",
      "  df_dcdc = pd.read_csv(file_dcdc, delimiter=';', on_bad_lines='skip')\n"
     ]
    },
    {
     "name": "stdout",
     "output_type": "stream",
     "text": [
      "MCU Data - MAE: 1199.968505859375, MSE: 1439924.125\n",
      "DCDC Data - MAE: 1005.2636587872819, MSE: 1014259.3584482796\n",
      "   soc  pack_voltage (V)  charge_current (A)  max_temperature (℃)  \\\n",
      "0    0                 0                   0                    0   \n",
      "1    0                 0                   0                    0   \n",
      "2    0                 0                   0                    0   \n",
      "3    0                 0                   0                    0   \n",
      "4    0                 0                   0                    0   \n",
      "\n",
      "   min_temperature (℃)  available_capacity (Ah)  \\\n",
      "0                    0                        0   \n",
      "1                    0                        0   \n",
      "2                    0                        0   \n",
      "3                    0                        0   \n",
      "4                    0                        0   \n",
      "\n",
      "   predicted_available_capacity (Ah)  \n",
      "0                        1199.968384  \n",
      "1                        1199.968384  \n",
      "2                        1199.968384  \n",
      "3                        1199.968384  \n",
      "4                        1199.968384  \n",
      "    soc  pack_voltage (V)  charge_current (A)  max_temperature (℃)  \\\n",
      "1  82.0             675.5                10.2                 16.0   \n",
      "4  82.0             675.4                 0.0                 16.0   \n",
      "5  82.0             675.7                38.2                 16.0   \n",
      "6  82.0             675.3                 9.0                 16.0   \n",
      "7  82.0             675.2                 8.6                 16.0   \n",
      "\n",
      "   min_temperature (℃)  available_capacity (Ah)  \\\n",
      "1                 15.0                    226.0   \n",
      "4                 15.0                    226.0   \n",
      "5                 15.0                    226.0   \n",
      "6                 15.0                    226.0   \n",
      "7                 15.0                    226.0   \n",
      "\n",
      "   predicted_available_capacity (Ah)  \n",
      "1                        1199.968384  \n",
      "4                        1199.968384  \n",
      "5                        1199.968384  \n",
      "6                        1199.968384  \n",
      "7                        1199.968384  \n"
     ]
    }
   ],
   "execution_count": 1
  },
  {
   "metadata": {
    "ExecuteTime": {
     "end_time": "2025-03-28T13:33:10.390242Z",
     "start_time": "2025-03-28T13:33:10.378138Z"
    }
   },
   "cell_type": "code",
   "source": "print(f\"MCU Data - MAE: {mae_mcu}, MSE: {mse_mcu}\")",
   "id": "5e25f06358ae38ca",
   "outputs": [
    {
     "name": "stdout",
     "output_type": "stream",
     "text": [
      "MCU Data - MAE: 1199.968505859375, MSE: 1439924.125\n"
     ]
    }
   ],
   "execution_count": 2
  },
  {
   "metadata": {},
   "cell_type": "code",
   "outputs": [],
   "execution_count": null,
   "source": "",
   "id": "a18e8a6a32747c64"
  }
 ],
 "metadata": {
  "kernelspec": {
   "display_name": "Python 3",
   "language": "python",
   "name": "python3"
  },
  "language_info": {
   "codemirror_mode": {
    "name": "ipython",
    "version": 2
   },
   "file_extension": ".py",
   "mimetype": "text/x-python",
   "name": "python",
   "nbconvert_exporter": "python",
   "pygments_lexer": "ipython2",
   "version": "2.7.6"
  }
 },
 "nbformat": 4,
 "nbformat_minor": 5
}
